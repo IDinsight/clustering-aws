{
 "cells": [
  {
   "cell_type": "markdown",
   "metadata": {},
   "source": [
    "## Setup"
   ]
  },
  {
   "cell_type": "code",
   "execution_count": null,
   "metadata": {},
   "outputs": [],
   "source": [
    "# set libraries to refresh\n",
    "%load_ext autoreload\n",
    "%autoreload 2"
   ]
  },
  {
   "cell_type": "code",
   "execution_count": null,
   "metadata": {},
   "outputs": [],
   "source": [
    "from pathlib import Path\n",
    "import geopandas as gpd"
   ]
  },
  {
   "cell_type": "code",
   "execution_count": null,
   "metadata": {},
   "outputs": [],
   "source": [
    "from clustering.kmeans import TunedClustering"
   ]
  },
  {
   "cell_type": "markdown",
   "metadata": {},
   "source": [
    "## Load data"
   ]
  },
  {
   "cell_type": "code",
   "execution_count": null,
   "metadata": {},
   "outputs": [],
   "source": [
    "ROOT_DIR = Path(\".\")\n",
    "DATA_DIR = ROOT_DIR / \"data\""
   ]
  },
  {
   "cell_type": "markdown",
   "metadata": {},
   "source": [
    "## Clustering"
   ]
  },
  {
   "cell_type": "markdown",
   "metadata": {},
   "source": [
    "### Set parameters"
   ]
  },
  {
   "cell_type": "code",
   "execution_count": null,
   "metadata": {},
   "outputs": [],
   "source": [
    "# choose which demo data to use\n",
    "data_type = \"rooftops\" #\"weighted_grids\""
   ]
  },
  {
   "cell_type": "code",
   "execution_count": null,
   "metadata": {},
   "outputs": [],
   "source": [
    "# runs\n",
    "n_jobs = -1\n",
    "initial_max_trials = 100\n",
    "max_passes = 100\n",
    "subsequent_max_trials = 20"
   ]
  },
  {
   "cell_type": "code",
   "execution_count": null,
   "metadata": {},
   "outputs": [],
   "source": [
    "if data_type == \"rooftops\":\n",
    "    gdf_for_cluster = gpd.read_parquet(DATA_DIR / \"rooftops.parquet\")\n",
    "    gdf_for_cluster.loc[:, \"weight\"] = 1\n",
    "    # admin variables\n",
    "    id_col = \"rooftop_id\"\n",
    "    lat_col = \"Lat_centroid\"\n",
    "    lon_col = \"Lon_centroid\"\n",
    "    weight_col = \"weight\"\n",
    "    projected_epsg = 26191  # morocco\n",
    "    # clustering variables\n",
    "    desired_cluster_radius = 550\n",
    "    desired_cluster_weight = 30\n",
    "    max_cluster_weight = 50\n",
    "    weight_importance_factor = 1\n",
    "    minibatch_reassignment_ratio = 0.1\n",
    "\n",
    "else:\n",
    "    gdf_for_cluster = gpd.read_parquet(DATA_DIR / \"grids.parquet\")\n",
    "    # admin variables\n",
    "    id_col = \"grid_id\"\n",
    "    lat_col = \"Lat\"\n",
    "    lon_col = \"Lon\"\n",
    "    weight_col = \"population\"\n",
    "    projected_epsg = 3121  # philippines\n",
    "    # clustering variables\n",
    "    desired_cluster_radius = 1000\n",
    "    desired_cluster_weight = 240\n",
    "    max_cluster_weight = 300\n",
    "    weight_importance_factor = 1\n",
    "    minibatch_reassignment_ratio = 0.1\n",
    "\n",
    "gdf_for_cluster"
   ]
  },
  {
   "cell_type": "markdown",
   "metadata": {},
   "source": [
    "### Initialise Algorithm"
   ]
  },
  {
   "cell_type": "code",
   "execution_count": null,
   "metadata": {},
   "outputs": [],
   "source": [
    "tuned_clustering = TunedClustering(\n",
    "    desired_cluster_weight=desired_cluster_weight,\n",
    "    desired_cluster_radius=desired_cluster_radius,\n",
    "    weight_importance_factor=weight_importance_factor,\n",
    "    minibatch_reassignment_ratio=minibatch_reassignment_ratio,\n",
    "    initial_max_trials=initial_max_trials,\n",
    "    max_passes=max_passes,\n",
    "    max_cluster_weight=max_cluster_weight,\n",
    "    subsequent_max_trials=subsequent_max_trials,\n",
    "    n_jobs=n_jobs,\n",
    "    show_progress_bar=True,\n",
    ")"
   ]
  },
  {
   "cell_type": "markdown",
   "metadata": {},
   "source": [
    "###  Run Algorithm"
   ]
  },
  {
   "cell_type": "code",
   "execution_count": null,
   "metadata": {},
   "outputs": [],
   "source": [
    "gdf_w_clusters = tuned_clustering.run(\n",
    "    gdf=gdf_for_cluster,\n",
    "    weight_col=weight_col,\n",
    "    projected_epsg=projected_epsg,\n",
    "    return_type=\"geodataframe\",\n",
    ")"
   ]
  },
  {
   "cell_type": "markdown",
   "metadata": {},
   "source": [
    "### Examine results"
   ]
  },
  {
   "cell_type": "markdown",
   "metadata": {},
   "source": [
    "#### Simple plot"
   ]
  },
  {
   "cell_type": "code",
   "execution_count": null,
   "metadata": {},
   "outputs": [],
   "source": [
    "import matplotlib.pyplot as plt"
   ]
  },
  {
   "cell_type": "code",
   "execution_count": null,
   "metadata": {},
   "outputs": [],
   "source": [
    "gdf_w_clusters.plot(column=\"cluster_id\", markersize=0.1, figsize=(10, 10))\n",
    "plt.show()"
   ]
  },
  {
   "cell_type": "markdown",
   "metadata": {},
   "source": [
    "#### Using functions from `gridsample`\n",
    "\n",
    "You need to have installed `gridsample` via `pip install .` in that repo's root folder into the environment you're using for running this notebook."
   ]
  },
  {
   "cell_type": "code",
   "execution_count": null,
   "metadata": {},
   "outputs": [],
   "source": [
    "from gridsample.reporting import plot_weights_vs_radii\n",
    "from gridsample.mapping import create_interactive_map"
   ]
  },
  {
   "cell_type": "code",
   "execution_count": null,
   "metadata": {},
   "outputs": [],
   "source": [
    "plot_weights_vs_radii(\n",
    "    point_gdf_w_cluster=gdf_w_clusters,\n",
    "    point_weight_col=weight_col,\n",
    "    point_projected_epsg=projected_epsg,\n",
    "    y_human_readable=data_type,\n",
    ")\n",
    "plt.show()"
   ]
  },
  {
   "cell_type": "code",
   "execution_count": null,
   "metadata": {},
   "outputs": [],
   "source": [
    "folium_map = create_interactive_map(\n",
    "    points_gdf=gdf_w_clusters,\n",
    "    cluster_id_col=\"cluster_id\",\n",
    "    point_id_col=id_col,\n",
    "    point_lat_col=lat_col,\n",
    "    point_lon_col=lon_col,\n",
    "    cols_for_tooltip=[id_col, \"cluster_id\"],\n",
    "    zoom_start=12,\n",
    ")\n",
    "folium_map"
   ]
  }
 ],
 "metadata": {
  "kernelspec": {
   "display_name": "gridsample",
   "language": "python",
   "name": "python3"
  },
  "language_info": {
   "codemirror_mode": {
    "name": "ipython",
    "version": 3
   },
   "file_extension": ".py",
   "mimetype": "text/x-python",
   "name": "python",
   "nbconvert_exporter": "python",
   "pygments_lexer": "ipython3",
   "version": "3.11.0"
  }
 },
 "nbformat": 4,
 "nbformat_minor": 2
}
