{
 "cells": [
  {
   "cell_type": "markdown",
   "metadata": {},
   "source": [
    "## Setup"
   ]
  },
  {
   "cell_type": "code",
   "execution_count": null,
   "metadata": {},
   "outputs": [],
   "source": [
    "# set libraries to refresh\n",
    "%load_ext autoreload\n",
    "%autoreload 2"
   ]
  },
  {
   "cell_type": "code",
   "execution_count": null,
   "metadata": {},
   "outputs": [],
   "source": [
    "from pathlib import Path\n",
    "import geopandas as gpd"
   ]
  },
  {
   "cell_type": "code",
   "execution_count": null,
   "metadata": {},
   "outputs": [],
   "source": [
    "from utils import plot_weights_vs_radii\n",
    "from clustering.kmeans import TunedClustering"
   ]
  },
  {
   "cell_type": "markdown",
   "metadata": {},
   "source": [
    "## Load data"
   ]
  },
  {
   "cell_type": "code",
   "execution_count": null,
   "metadata": {},
   "outputs": [],
   "source": [
    "ROOT_DIR = Path(\"..\")\n",
    "DATA_DIR = ROOT_DIR / \"data\"\n",
    "INPUT_DATA_DIR = DATA_DIR / \"input\"\n",
    "OUTPUT_DATA_DIR = DATA_DIR / \"output\""
   ]
  },
  {
   "cell_type": "code",
   "execution_count": null,
   "metadata": {},
   "outputs": [],
   "source": [
    "# runs\n",
    "n_jobs = -1\n",
    "initial_max_trials = 100\n",
    "max_n_passes = 2\n",
    "subsequent_max_trials = 20\n",
    "\n",
    "# data-specific\n",
    "# data_type = \"rooftops\"\n",
    "data_type = \"grids\"\n",
    "\n",
    "if data_type == \"rooftops\":\n",
    "    gdf_for_cluster = gpd.read_parquet(INPUT_DATA_DIR / \"rooftops.parquet\")\n",
    "    gdf_for_cluster.loc[:, \"weight\"] = 1\n",
    "    # admin variables\n",
    "    id_col = \"rooftop_id\"\n",
    "    lat_col = \"Lat_centroid\"\n",
    "    lon_col = \"Lon_centroid\"\n",
    "    weight_col = \"weight\"\n",
    "    projected_epsg = 26191  # morocco\n",
    "    # clustering variables\n",
    "    desired_cluster_radius = 550\n",
    "    desired_cluster_weight = 30\n",
    "    max_cluster_weight = 50\n",
    "    weight_importance_factor = 1\n",
    "\n",
    "else:\n",
    "    gdf_for_cluster = gpd.read_parquet(INPUT_DATA_DIR / \"grids.parquet\")\n",
    "    # admin variables\n",
    "    id_col = \"grid_id\"\n",
    "    lat_col = \"Lat\"\n",
    "    lon_col = \"Lon\"\n",
    "    weight_col = \"population\"\n",
    "    projected_epsg = 3121  # philippines\n",
    "    # clustering variables\n",
    "    desired_cluster_radius = 1000\n",
    "    desired_cluster_weight = 240\n",
    "    max_cluster_weight = 300\n",
    "    weight_importance_factor = 1\n",
    "\n",
    "gdf_for_cluster"
   ]
  },
  {
   "cell_type": "markdown",
   "metadata": {},
   "source": [
    "## Clustering"
   ]
  },
  {
   "cell_type": "code",
   "execution_count": null,
   "metadata": {},
   "outputs": [],
   "source": [
    "optimised_clustering = TunedClustering(\n",
    "    desired_cluster_weight=desired_cluster_weight,\n",
    "    desired_cluster_radius=desired_cluster_radius,\n",
    "    weight_importance_factor=weight_importance_factor,\n",
    "    initial_max_trials=initial_max_trials,\n",
    "    max_n_passes=max_n_passes,\n",
    "    max_cluster_weight=max_cluster_weight,\n",
    "    subsequent_max_trials=subsequent_max_trials,\n",
    "    n_jobs=n_jobs,\n",
    "    show_progress_bar=True,\n",
    ")"
   ]
  },
  {
   "cell_type": "code",
   "execution_count": null,
   "metadata": {},
   "outputs": [],
   "source": [
    "gdf_w_clusters = optimised_clustering.run(\n",
    "    gdf=gdf_for_cluster,\n",
    "    lat_col=lat_col,\n",
    "    lon_col=lon_col,\n",
    "    weight_col=weight_col,\n",
    "    projected_epsg=projected_epsg,\n",
    "    return_type=\"geodataframe\",\n",
    ")"
   ]
  },
  {
   "cell_type": "code",
   "execution_count": null,
   "metadata": {},
   "outputs": [],
   "source": [
    "plot_weights_vs_radii(\n",
    "    point_gdf_w_cluster=gdf_w_clusters,\n",
    "    point_weight_col=weight_col,\n",
    "    point_projected_epsg=projected_epsg,\n",
    ")"
   ]
  }
 ],
 "metadata": {
  "kernelspec": {
   "display_name": "gridsample",
   "language": "python",
   "name": "python3"
  },
  "language_info": {
   "codemirror_mode": {
    "name": "ipython",
    "version": 3
   },
   "file_extension": ".py",
   "mimetype": "text/x-python",
   "name": "python",
   "nbconvert_exporter": "python",
   "pygments_lexer": "ipython3",
   "version": "3.11.0"
  }
 },
 "nbformat": 4,
 "nbformat_minor": 2
}
