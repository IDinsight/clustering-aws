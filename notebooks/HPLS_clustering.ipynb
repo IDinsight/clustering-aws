{
 "cells": [
  {
   "cell_type": "markdown",
   "metadata": {},
   "source": [
    "## Setup"
   ]
  },
  {
   "cell_type": "code",
   "execution_count": null,
   "metadata": {},
   "outputs": [],
   "source": [
    "# set libraries to refresh\n",
    "%load_ext autoreload\n",
    "%autoreload 2"
   ]
  },
  {
   "cell_type": "code",
   "execution_count": null,
   "metadata": {},
   "outputs": [],
   "source": [
    "from pathlib import Path\n",
    "import geopandas as gpd"
   ]
  },
  {
   "cell_type": "code",
   "execution_count": null,
   "metadata": {},
   "outputs": [],
   "source": [
    "from clustering.kmeans import custom_kmeans, get_oversized_clusters, run_optuna_kmeans_study, kmeans_secondpass #, parallel_kmeans_secondpass\n",
    "from plotting import plot_weights_vs_radii"
   ]
  },
  {
   "cell_type": "markdown",
   "metadata": {},
   "source": [
    "## Load data"
   ]
  },
  {
   "cell_type": "code",
   "execution_count": null,
   "metadata": {},
   "outputs": [],
   "source": [
    "ROOT_DIR = Path(\"..\")\n",
    "DATA_DIR = ROOT_DIR / \"data\"\n",
    "INPUT_DATA_DIR = DATA_DIR / \"input\"\n",
    "OUTPUT_DATA_DIR = DATA_DIR / \"output\""
   ]
  },
  {
   "cell_type": "code",
   "execution_count": null,
   "metadata": {},
   "outputs": [],
   "source": [
    "barangay_grids = gpd.read_parquet(INPUT_DATA_DIR / \"data_201519013.parquet\")"
   ]
  },
  {
   "cell_type": "code",
   "execution_count": null,
   "metadata": {},
   "outputs": [],
   "source": [
    "barangay_grids"
   ]
  },
  {
   "cell_type": "markdown",
   "metadata": {},
   "source": [
    "## Clustering"
   ]
  },
  {
   "cell_type": "code",
   "execution_count": null,
   "metadata": {},
   "outputs": [],
   "source": [
    "id_col=\"grid_id\"\n",
    "lat_col=\"Lat\"\n",
    "lon_col=\"Lon\"\n",
    "weight_col=\"population\""
   ]
  },
  {
   "cell_type": "code",
   "execution_count": null,
   "metadata": {},
   "outputs": [],
   "source": [
    "# general\n",
    "epsg = 3121\n",
    "\n",
    "# first pass\n",
    "firstpass_weight = 240\n",
    "firstpass_factor = 1\n",
    "\n",
    "firstpass_n_jobs = 2\n",
    "firstpass_n_trials = 96 #8 * firstpass_n_jobs  # can also set to static 96\n",
    "\n",
    "# second pass\n",
    "secondpass_cutoff_weight = 300\n",
    "secondpass_weight = firstpass_weight\n",
    "secondpass_factor = firstpass_factor\n",
    "\n",
    "secondpass_python_n_jobs = 1\n",
    "secondpass_optuna_n_jobs = 2\n",
    "secondpass_n_trials = 24 #2 * (\n",
    "#     secondpass_python_n_jobs * secondpass_optuna_n_jobs\n",
    "# )  #  can also set this to static 24"
   ]
  },
  {
   "cell_type": "code",
   "execution_count": null,
   "metadata": {},
   "outputs": [],
   "source": [
    "# select parameters\n",
    "if barangay_grids[\"urban\"].iloc[0]:\n",
    "    firstpass_radius = 1000\n",
    "    secondpass_radius = firstpass_radius\n",
    "else:\n",
    "    firstpass_radius = 2000\n",
    "    secondpass_radius = firstpass_radius\n",
    "print(f\"Grids in barangay: {len(barangay_grids)}\")\n",
    "\n",
    "# first pass\n",
    "study_firstpass = run_optuna_kmeans_study(\n",
    "    gdf=barangay_grids,\n",
    "    desired_cluster_weight=firstpass_weight,\n",
    "    desired_cluster_radius=firstpass_radius,\n",
    "    id_col=id_col,\n",
    "    lat_col=lat_col,\n",
    "    lon_col=lon_col,\n",
    "    weight_col=weight_col,\n",
    "    weight_importance_factor=firstpass_factor,\n",
    "    epsg=epsg,\n",
    "    n_trials=firstpass_n_trials,\n",
    "    n_jobs=firstpass_n_jobs,\n",
    "    show_progress_bar=True,\n",
    ")\n",
    "\n",
    "# proper run with the best n_cluster\n",
    "clusters = custom_kmeans(\n",
    "    df=barangay_grids,\n",
    "    n_clusters=study_firstpass.best_params[\"n_clusters\"],\n",
    "    id_col=id_col,\n",
    "    lat_col=lat_col,\n",
    "    lon_col=lon_col,\n",
    "    weight_col=weight_col,\n",
    ")\n",
    "gdf_w_clusters = barangay_grids.merge(clusters, on=id_col)\n",
    "gdf_w_clusters = gdf_w_clusters.sort_values(by=\"cluster_id\")\n",
    "\n",
    "# second pass\n",
    "oversized_cluster_ids = get_oversized_clusters(\n",
    "    gdf_w_clusters=gdf_w_clusters, cutoff_weight=secondpass_cutoff_weight\n",
    ")\n",
    "n_oversized = len(oversized_cluster_ids)\n",
    "print(f\"Oversized clusters: {n_oversized}\")\n",
    "\n",
    "# add urban_guess column\n",
    "gdf_w_clusters.loc[:, \"dense_area_guess\"] = 0\n",
    "gdf_w_clusters.loc[\n",
    "    gdf_w_clusters[\"cluster_weight\"] > secondpass_cutoff_weight, \"dense_area_guess\"\n",
    "] = 1\n",
    "\n",
    "if n_oversized>0:\n",
    "    # run re-clustering\n",
    "    gdf_w_clusters = kmeans_secondpass(\n",
    "        gdf_w_clusters=gdf_w_clusters,\n",
    "        oversized_cluster_ids=oversized_cluster_ids,\n",
    "        desired_cluster_weight=secondpass_weight,\n",
    "        desired_cluster_radius=secondpass_radius,\n",
    "        id_col=id_col,\n",
    "        lat_col=lat_col,\n",
    "        lon_col=lon_col,\n",
    "        weight_col=weight_col,\n",
    "        weight_importance_factor=secondpass_factor,\n",
    "        epsg=epsg,\n",
    "        n_trials=secondpass_n_trials,\n",
    "        n_jobs=firstpass_n_jobs,\n",
    "    )\n",
    "    gdf_w_clusters = gdf_w_clusters.sort_values(by=\"cluster_id\")"
   ]
  },
  {
   "cell_type": "code",
   "execution_count": null,
   "metadata": {},
   "outputs": [],
   "source": [
    "plot_weights_vs_radii(point_gdf_w_cluster=gdf_w_clusters, point_weight_col=weight_col, point_projected_epsg=epsg)"
   ]
  },
  {
   "cell_type": "code",
   "execution_count": null,
   "metadata": {},
   "outputs": [],
   "source": []
  }
 ],
 "metadata": {
  "kernelspec": {
   "display_name": "gridsample",
   "language": "python",
   "name": "python3"
  },
  "language_info": {
   "codemirror_mode": {
    "name": "ipython",
    "version": 3
   },
   "file_extension": ".py",
   "mimetype": "text/x-python",
   "name": "python",
   "nbconvert_exporter": "python",
   "pygments_lexer": "ipython3",
   "version": "3.11.0"
  }
 },
 "nbformat": 4,
 "nbformat_minor": 2
}
