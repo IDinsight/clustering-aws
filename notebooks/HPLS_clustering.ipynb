{
 "cells": [
  {
   "cell_type": "markdown",
   "metadata": {},
   "source": [
    "## Setup"
   ]
  },
  {
   "cell_type": "code",
   "execution_count": null,
   "metadata": {},
   "outputs": [],
   "source": [
    "# set libraries to refresh\n",
    "%load_ext autoreload\n",
    "%autoreload 2"
   ]
  },
  {
   "cell_type": "code",
   "execution_count": null,
   "metadata": {},
   "outputs": [],
   "source": [
    "from pathlib import Path\n",
    "import geopandas as gpd"
   ]
  },
  {
   "cell_type": "code",
   "execution_count": null,
   "metadata": {},
   "outputs": [],
   "source": [
    "from clustering.kmeans import custom_kmeans, get_oversized_clusters, run_optuna_kmeans_study, kmeans_secondpass #, parallel_kmeans_secondpass\n",
    "from utils import plot_weights_vs_radii"
   ]
  },
  {
   "cell_type": "markdown",
   "metadata": {},
   "source": [
    "## Load data"
   ]
  },
  {
   "cell_type": "code",
   "execution_count": null,
   "metadata": {},
   "outputs": [],
   "source": [
    "ROOT_DIR = Path(\"..\")\n",
    "DATA_DIR = ROOT_DIR / \"data\"\n",
    "INPUT_DATA_DIR = DATA_DIR / \"input\"\n",
    "OUTPUT_DATA_DIR = DATA_DIR / \"output\""
   ]
  },
  {
   "cell_type": "code",
   "execution_count": null,
   "metadata": {},
   "outputs": [],
   "source": [
    "barangay_grids = gpd.read_parquet(INPUT_DATA_DIR / \"data.parquet\")"
   ]
  },
  {
   "cell_type": "markdown",
   "metadata": {},
   "source": [
    "## Clustering"
   ]
  },
  {
   "cell_type": "code",
   "execution_count": null,
   "metadata": {},
   "outputs": [],
   "source": [
    "# admin variables\n",
    "id_col = \"grid_id\"\n",
    "lat_col = \"Lat\"\n",
    "lon_col = \"Lon\"\n",
    "weight_col = \"population\"\n",
    "epsg = 3121  # philippines\n",
    "# both passes\n",
    "weight_importance_factor = 1\n",
    "n_jobs = 2\n",
    "# first pass\n",
    "desired_weight = 240\n",
    "firstpass_n_trials = 96\n",
    "# second pass\n",
    "secondpass_cutoff_weight = 300\n",
    "secondpass_n_trials = 24\n",
    "\n",
    "\n",
    "def cluster_data(gdf_for_cluster):\n",
    "\n",
    "    if gdf_for_cluster[weight_col].sum() == 0:\n",
    "        gdf_w_clusters = gdf_for_cluster.copy()\n",
    "        gdf_w_clusters.loc[:, \"cluster_id\"] = \"CLUSTER_0\"\n",
    "        gdf_w_clusters.loc[:, \"cluster_weight\"] = 0.0\n",
    "        gdf_w_clusters.loc[:, \"dense_area_guess\"] = 0\n",
    "        return gdf_w_clusters\n",
    "\n",
    "    # dynamic radius parameter\n",
    "    if gdf_for_cluster[\"urban\"].iloc[0]:\n",
    "        desired_radius = 1000\n",
    "    else:\n",
    "        desired_radius = 2000\n",
    "    print(f\"Grids in barangay: {len(gdf_for_cluster)}\")\n",
    "\n",
    "    # first pass\n",
    "    study_firstpass = run_optuna_kmeans_study(\n",
    "        gdf=gdf_for_cluster,\n",
    "        desired_cluster_weight=desired_weight,\n",
    "        desired_cluster_radius=desired_radius,\n",
    "        id_col=id_col,\n",
    "        lat_col=lat_col,\n",
    "        lon_col=lon_col,\n",
    "        weight_col=weight_col,\n",
    "        weight_importance_factor=desired_weight,\n",
    "        epsg=epsg,\n",
    "        n_trials=firstpass_n_trials,\n",
    "        n_jobs=n_jobs,\n",
    "    )\n",
    "\n",
    "    # proper run with the best n_cluster\n",
    "    clusters = custom_kmeans(\n",
    "        df=gdf_for_cluster,\n",
    "        n_clusters=study_firstpass.best_params[\"n_clusters\"],\n",
    "        id_col=id_col,\n",
    "        lat_col=lat_col,\n",
    "        lon_col=lon_col,\n",
    "        weight_col=weight_col,\n",
    "    )\n",
    "    gdf_w_clusters = gdf_for_cluster.merge(clusters, on=id_col)\n",
    "    gdf_w_clusters = gdf_w_clusters.sort_values(by=\"cluster_id\")\n",
    "\n",
    "    # second pass\n",
    "    oversized_cluster_ids = get_oversized_clusters(\n",
    "        gdf_w_clusters=gdf_w_clusters, cutoff_weight=secondpass_cutoff_weight\n",
    "    )\n",
    "    n_oversized = len(oversized_cluster_ids)\n",
    "    print(f\"Oversized clusters: {n_oversized}\")\n",
    "\n",
    "    # add urban_guess column\n",
    "    gdf_w_clusters.loc[:, \"dense_area_guess\"] = 0\n",
    "    gdf_w_clusters.loc[\n",
    "        gdf_w_clusters[\"cluster_weight\"] > secondpass_cutoff_weight,\n",
    "        \"dense_area_guess\",\n",
    "    ] = 1\n",
    "\n",
    "    if n_oversized > 0:\n",
    "        # run re-clustering\n",
    "        gdf_w_clusters = kmeans_secondpass(\n",
    "            gdf_w_clusters=gdf_w_clusters,\n",
    "            oversized_cluster_ids=oversized_cluster_ids,\n",
    "            desired_cluster_weight=desired_weight,\n",
    "            desired_cluster_radius=desired_radius,\n",
    "            id_col=id_col,\n",
    "            lat_col=lat_col,\n",
    "            lon_col=lon_col,\n",
    "            weight_col=weight_col,\n",
    "            weight_importance_factor=weight_importance_factor,\n",
    "            epsg=epsg,\n",
    "            n_trials=secondpass_n_trials,\n",
    "            n_jobs=n_jobs,\n",
    "        )\n",
    "        gdf_w_clusters = gdf_w_clusters.sort_values(by=\"cluster_id\")\n",
    "\n",
    "    return gdf_w_clusters"
   ]
  },
  {
   "cell_type": "code",
   "execution_count": null,
   "metadata": {},
   "outputs": [],
   "source": [
    "gdf_w_clusters = cluster_data(barangay_grids)"
   ]
  },
  {
   "cell_type": "code",
   "execution_count": null,
   "metadata": {},
   "outputs": [],
   "source": [
    "plot_weights_vs_radii(point_gdf_w_cluster=gdf_w_clusters, point_weight_col=weight_col, point_projected_epsg=epsg)"
   ]
  },
  {
   "cell_type": "code",
   "execution_count": null,
   "metadata": {},
   "outputs": [],
   "source": [
    "gdf_w_clusters.plot(column=\"cluster_id\", figsize=(5, 5))"
   ]
  }
 ],
 "metadata": {
  "kernelspec": {
   "display_name": "gridsample",
   "language": "python",
   "name": "python3"
  },
  "language_info": {
   "codemirror_mode": {
    "name": "ipython",
    "version": 3
   },
   "file_extension": ".py",
   "mimetype": "text/x-python",
   "name": "python",
   "nbconvert_exporter": "python",
   "pygments_lexer": "ipython3",
   "version": "3.11.0"
  }
 },
 "nbformat": 4,
 "nbformat_minor": 2
}
