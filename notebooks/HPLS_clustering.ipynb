{
 "cells": [
  {
   "cell_type": "markdown",
   "metadata": {},
   "source": [
    "## Setup"
   ]
  },
  {
   "cell_type": "code",
   "execution_count": 1,
   "metadata": {},
   "outputs": [],
   "source": [
    "# set libraries to refresh\n",
    "%load_ext autoreload\n",
    "%autoreload 2"
   ]
  },
  {
   "cell_type": "code",
   "execution_count": 2,
   "metadata": {},
   "outputs": [],
   "source": [
    "from pathlib import Path\n",
    "import geopandas as gpd"
   ]
  },
  {
   "cell_type": "code",
   "execution_count": 3,
   "metadata": {},
   "outputs": [],
   "source": [
    "from clustering.kmeans import custom_kmeans, get_oversized_clusters, run_optuna_kmeans_study, kmeans_secondpass #, parallel_kmeans_secondpass\n",
    "from utils import plot_weights_vs_radii"
   ]
  },
  {
   "cell_type": "markdown",
   "metadata": {},
   "source": [
    "## Load data"
   ]
  },
  {
   "cell_type": "code",
   "execution_count": 4,
   "metadata": {},
   "outputs": [],
   "source": [
    "ROOT_DIR = Path(\"..\")\n",
    "DATA_DIR = ROOT_DIR / \"data\"\n",
    "INPUT_DATA_DIR = DATA_DIR / \"input\"\n",
    "OUTPUT_DATA_DIR = DATA_DIR / \"output\""
   ]
  },
  {
   "cell_type": "code",
   "execution_count": 5,
   "metadata": {},
   "outputs": [
    {
     "data": {
      "text/html": [
       "<div>\n",
       "<style scoped>\n",
       "    .dataframe tbody tr th:only-of-type {\n",
       "        vertical-align: middle;\n",
       "    }\n",
       "\n",
       "    .dataframe tbody tr th {\n",
       "        vertical-align: top;\n",
       "    }\n",
       "\n",
       "    .dataframe thead th {\n",
       "        text-align: right;\n",
       "    }\n",
       "</style>\n",
       "<table border=\"1\" class=\"dataframe\">\n",
       "  <thead>\n",
       "    <tr style=\"text-align: right;\">\n",
       "      <th></th>\n",
       "      <th>Lat</th>\n",
       "      <th>Lon</th>\n",
       "      <th>population</th>\n",
       "      <th>PSGC</th>\n",
       "      <th>urban</th>\n",
       "      <th>geometry</th>\n",
       "      <th>grid_id</th>\n",
       "    </tr>\n",
       "  </thead>\n",
       "  <tbody>\n",
       "    <tr>\n",
       "      <th>25119277</th>\n",
       "      <td>8.0025</td>\n",
       "      <td>125.380000</td>\n",
       "      <td>0.144206</td>\n",
       "      <td>1102305007</td>\n",
       "      <td>True</td>\n",
       "      <td>POINT (125.38000 8.00250)</td>\n",
       "      <td>GRID_25119278</td>\n",
       "    </tr>\n",
       "    <tr>\n",
       "      <th>25119278</th>\n",
       "      <td>8.0025</td>\n",
       "      <td>125.380833</td>\n",
       "      <td>0.146483</td>\n",
       "      <td>1102305007</td>\n",
       "      <td>True</td>\n",
       "      <td>POINT (125.38083 8.00250)</td>\n",
       "      <td>GRID_25119279</td>\n",
       "    </tr>\n",
       "    <tr>\n",
       "      <th>25119279</th>\n",
       "      <td>8.0025</td>\n",
       "      <td>125.381666</td>\n",
       "      <td>0.140582</td>\n",
       "      <td>1102305007</td>\n",
       "      <td>True</td>\n",
       "      <td>POINT (125.38167 8.00250)</td>\n",
       "      <td>GRID_25119280</td>\n",
       "    </tr>\n",
       "    <tr>\n",
       "      <th>25119280</th>\n",
       "      <td>8.0025</td>\n",
       "      <td>125.382500</td>\n",
       "      <td>0.144790</td>\n",
       "      <td>1102305007</td>\n",
       "      <td>True</td>\n",
       "      <td>POINT (125.38250 8.00250)</td>\n",
       "      <td>GRID_25119281</td>\n",
       "    </tr>\n",
       "    <tr>\n",
       "      <th>25119281</th>\n",
       "      <td>8.0025</td>\n",
       "      <td>125.383333</td>\n",
       "      <td>0.032313</td>\n",
       "      <td>1102305007</td>\n",
       "      <td>True</td>\n",
       "      <td>POINT (125.38333 8.00250)</td>\n",
       "      <td>GRID_25119282</td>\n",
       "    </tr>\n",
       "  </tbody>\n",
       "</table>\n",
       "</div>"
      ],
      "text/plain": [
       "             Lat         Lon  population        PSGC  urban  \\\n",
       "25119277  8.0025  125.380000    0.144206  1102305007   True   \n",
       "25119278  8.0025  125.380833    0.146483  1102305007   True   \n",
       "25119279  8.0025  125.381666    0.140582  1102305007   True   \n",
       "25119280  8.0025  125.382500    0.144790  1102305007   True   \n",
       "25119281  8.0025  125.383333    0.032313  1102305007   True   \n",
       "\n",
       "                           geometry        grid_id  \n",
       "25119277  POINT (125.38000 8.00250)  GRID_25119278  \n",
       "25119278  POINT (125.38083 8.00250)  GRID_25119279  \n",
       "25119279  POINT (125.38167 8.00250)  GRID_25119280  \n",
       "25119280  POINT (125.38250 8.00250)  GRID_25119281  \n",
       "25119281  POINT (125.38333 8.00250)  GRID_25119282  "
      ]
     },
     "execution_count": 5,
     "metadata": {},
     "output_type": "execute_result"
    }
   ],
   "source": [
    "# data_type = \"rooftops\"\n",
    "data_type = \"grids\"\n",
    "\n",
    "# runs\n",
    "n_jobs = 10\n",
    "firstpass_n_trials = 50\n",
    "secondpass_n_trials = 20\n",
    "\n",
    "if data_type == \"rooftops\":\n",
    "\n",
    "    gdf_for_cluster = gpd.read_parquet(INPUT_DATA_DIR / \"rooftops.parquet\")\n",
    "    gdf_for_cluster.loc[:, \"weight\"] = 1\n",
    "    # admin variables\n",
    "    id_col = \"rooftop_id\"\n",
    "    lat_col = \"Lat_centroid\"\n",
    "    lon_col = \"Lon_centroid\"\n",
    "    weight_col = \"weight\"\n",
    "    epsg = 26191  # morocco\n",
    "    # clustering variables\n",
    "    desired_weight = 30\n",
    "    desired_radius = 550\n",
    "    secondpass_cutoff_weight = 50\n",
    "    weight_importance_factor = 1\n",
    "\n",
    "else:\n",
    "\n",
    "    gdf_for_cluster = gpd.read_parquet(INPUT_DATA_DIR / \"grids.parquet\")\n",
    "    # admin variables\n",
    "    id_col = \"grid_id\"\n",
    "    lat_col = \"Lat\"\n",
    "    lon_col = \"Lon\"\n",
    "    weight_col = \"population\"\n",
    "    epsg = 3121  # philippines\n",
    "    # clustering variables\n",
    "    desired_weight = 240\n",
    "    desired_radius = 1000\n",
    "    weight_importance_factor = 1\n",
    "    secondpass_cutoff_weight = 300\n",
    "\n",
    "gdf_for_cluster.head()"
   ]
  },
  {
   "cell_type": "markdown",
   "metadata": {},
   "source": [
    "## Clustering\n",
    "\n",
    "- add option for dynamic radius selection back in"
   ]
  },
  {
   "cell_type": "code",
   "execution_count": 6,
   "metadata": {},
   "outputs": [],
   "source": [
    "def cluster_data(gdf_for_cluster):\n",
    "\n",
    "    if gdf_for_cluster[weight_col].sum() == 0:\n",
    "        gdf_w_clusters = gdf_for_cluster.copy()\n",
    "        gdf_w_clusters.loc[:, \"cluster_id\"] = \"CLUSTER_0\"\n",
    "        gdf_w_clusters.loc[:, \"cluster_weight\"] = 0.0\n",
    "        gdf_w_clusters.loc[:, \"dense_area_guess\"] = 0\n",
    "        return gdf_w_clusters\n",
    "\n",
    "    # first pass\n",
    "    study_firstpass = run_optuna_kmeans_study(\n",
    "        gdf=gdf_for_cluster,\n",
    "        desired_cluster_weight=desired_weight,\n",
    "        desired_cluster_radius=desired_radius,\n",
    "        id_col=id_col,\n",
    "        lat_col=lat_col,\n",
    "        lon_col=lon_col,\n",
    "        weight_col=weight_col,\n",
    "        weight_importance_factor=desired_weight,\n",
    "        epsg=epsg,\n",
    "        n_trials=firstpass_n_trials,\n",
    "        n_jobs=n_jobs,\n",
    "        show_progress_bar=True,\n",
    "    )\n",
    "\n",
    "    # proper run with the best n_cluster\n",
    "    clusters = custom_kmeans(\n",
    "        df=gdf_for_cluster,\n",
    "        n_clusters=study_firstpass.best_params[\"n_clusters\"],\n",
    "        id_col=id_col,\n",
    "        lat_col=lat_col,\n",
    "        lon_col=lon_col,\n",
    "        weight_col=weight_col,\n",
    "    )\n",
    "    gdf_w_clusters = gdf_for_cluster.merge(clusters, on=id_col)\n",
    "    gdf_w_clusters = gdf_w_clusters.sort_values(by=\"cluster_id\")\n",
    "\n",
    "    # second pass\n",
    "    oversized_cluster_ids = get_oversized_clusters(\n",
    "        gdf_w_clusters=gdf_w_clusters, cutoff_weight=secondpass_cutoff_weight\n",
    "    )\n",
    "    n_oversized = len(oversized_cluster_ids)\n",
    "    print(f\"Oversized clusters: {n_oversized}\")\n",
    "\n",
    "    # add urban_guess column\n",
    "    gdf_w_clusters.loc[:, \"dense_area_guess\"] = 0\n",
    "    gdf_w_clusters.loc[\n",
    "        gdf_w_clusters[\"cluster_weight\"] > secondpass_cutoff_weight,\n",
    "        \"dense_area_guess\",\n",
    "    ] = 1\n",
    "\n",
    "    # second pass\n",
    "    # if n_oversized > 0:\n",
    "    #     # run re-clustering\n",
    "    #     gdf_w_clusters = kmeans_secondpass(\n",
    "    #         gdf_w_clusters=gdf_w_clusters,\n",
    "    #         oversized_cluster_ids=oversized_cluster_ids,\n",
    "    #         desired_cluster_weight=desired_weight,\n",
    "    #         desired_cluster_radius=desired_radius,\n",
    "    #         id_col=id_col,\n",
    "    #         lat_col=lat_col,\n",
    "    #         lon_col=lon_col,\n",
    "    #         weight_col=weight_col,\n",
    "    #         weight_importance_factor=weight_importance_factor,\n",
    "    #         epsg=epsg,\n",
    "    #         n_trials=secondpass_n_trials,\n",
    "    #         n_jobs=n_jobs,\n",
    "    #     )\n",
    "    #     gdf_w_clusters = gdf_w_clusters.sort_values(by=\"cluster_id\")\n",
    "\n",
    "    return gdf_w_clusters"
   ]
  },
  {
   "cell_type": "code",
   "execution_count": 7,
   "metadata": {},
   "outputs": [
    {
     "data": {
      "application/vnd.jupyter.widget-view+json": {
       "model_id": "ba88c180f91046e1869d78b5e1950a87",
       "version_major": 2,
       "version_minor": 0
      },
      "text/plain": [
       "  0%|          | 0/50 [00:00<?, ?it/s]"
      ]
     },
     "metadata": {},
     "output_type": "display_data"
    },
    {
     "name": "stdout",
     "output_type": "stream",
     "text": [
      "Oversized clusters: 22\n"
     ]
    }
   ],
   "source": [
    "gdf_w_clusters = cluster_data(gdf_for_cluster)"
   ]
  },
  {
   "cell_type": "code",
   "execution_count": null,
   "metadata": {},
   "outputs": [],
   "source": [
    "# single pass timings\n",
    "\n",
    "# grids - 69,226 points different weights (smaller n_clusters)\n",
    "# original: 17s\n",
    "\n",
    "# rooftops - 17,367 points equal weight (much bigger n_clusters)\n",
    "# original: 33s"
   ]
  },
  {
   "cell_type": "code",
   "execution_count": null,
   "metadata": {},
   "outputs": [],
   "source": [
    "plot_weights_vs_radii(point_gdf_w_cluster=gdf_w_clusters, point_weight_col=weight_col, point_projected_epsg=epsg)"
   ]
  },
  {
   "cell_type": "code",
   "execution_count": null,
   "metadata": {},
   "outputs": [],
   "source": [
    "gdf_w_clusters.plot(column=\"cluster_id\", figsize=(5, 5))"
   ]
  }
 ],
 "metadata": {
  "kernelspec": {
   "display_name": "gridsample",
   "language": "python",
   "name": "python3"
  },
  "language_info": {
   "codemirror_mode": {
    "name": "ipython",
    "version": 3
   },
   "file_extension": ".py",
   "mimetype": "text/x-python",
   "name": "python",
   "nbconvert_exporter": "python",
   "pygments_lexer": "ipython3",
   "version": "3.11.0"
  }
 },
 "nbformat": 4,
 "nbformat_minor": 2
}
