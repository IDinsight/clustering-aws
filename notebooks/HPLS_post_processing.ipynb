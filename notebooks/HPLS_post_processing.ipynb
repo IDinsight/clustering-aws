{
 "cells": [
  {
   "cell_type": "markdown",
   "metadata": {},
   "source": [
    "### Setup"
   ]
  },
  {
   "cell_type": "code",
   "execution_count": null,
   "metadata": {},
   "outputs": [],
   "source": [
    "# set libraries to refresh\n",
    "%load_ext autoreload\n",
    "%autoreload 2"
   ]
  },
  {
   "cell_type": "code",
   "execution_count": null,
   "metadata": {},
   "outputs": [],
   "source": [
    "from pathlib import Path\n",
    "from tqdm.notebook import tqdm\n",
    "import pandas as pd\n",
    "import geopandas as gpd\n",
    "\n",
    "# import kml reading and set supported driver\n",
    "import fiona\n",
    "fiona.drvsupport.supported_drivers['KML'] = 'rw'"
   ]
  },
  {
   "cell_type": "code",
   "execution_count": null,
   "metadata": {},
   "outputs": [],
   "source": [
    "from clustering.utils import get_cluster_pivot_gdf\n",
    "from utils import plot_weights_vs_radii, save_shapefiles"
   ]
  },
  {
   "cell_type": "markdown",
   "metadata": {},
   "source": [
    "### Custom function for this notebook"
   ]
  },
  {
   "cell_type": "code",
   "execution_count": null,
   "metadata": {},
   "outputs": [],
   "source": [
    "def load_and_process_barangay(selected_barangay_filepath) -> gpd.GeoDataFrame:\n",
    "\n",
    "    cluster_gdf = gpd.read_parquet(selected_barangay_filepath)\n",
    "    unique_cluster_id = (\n",
    "        \"B_\" + cluster_gdf[\"PSGC\"].astype(str) + \"_\" + cluster_gdf[\"cluster_id\"]\n",
    "    )\n",
    "    cluster_gdf.insert(8, \"unique_cluster_id\", unique_cluster_id)\n",
    "\n",
    "    return cluster_gdf"
   ]
  },
  {
   "cell_type": "markdown",
   "metadata": {},
   "source": [
    "### Load data"
   ]
  },
  {
   "cell_type": "code",
   "execution_count": null,
   "metadata": {},
   "outputs": [],
   "source": [
    "ROOT_DIR = Path(\"..\")\n",
    "INPUT_DATA_DIR = ROOT_DIR / \"data\" / \"output\" / \"lambda_processed\"\n",
    "OUTPUT_DATA_DIR = ROOT_DIR / \"data\" / \"output\"\n",
    "# OUTPUT_DATA_DIR = ROOT_DIR / \"data_hpls\" / \"02_modeloutputs\" / \"online\""
   ]
  },
  {
   "cell_type": "code",
   "execution_count": null,
   "metadata": {},
   "outputs": [],
   "source": [
    "# get cercle folderpaths for selected regions\n",
    "filepaths = list(INPUT_DATA_DIR.glob(\"*\"))\n",
    "filepaths = filepaths[:100]"
   ]
  },
  {
   "cell_type": "code",
   "execution_count": null,
   "metadata": {},
   "outputs": [],
   "source": [
    "# load and process all barangays\n",
    "grid_gdf_list = []\n",
    "for filepath in tqdm(filepaths):\n",
    "    grid_gdf = load_and_process_barangay(filepath)\n",
    "    grid_gdf_list.append(grid_gdf)"
   ]
  },
  {
   "cell_type": "markdown",
   "metadata": {},
   "source": [
    "### Combine barangays"
   ]
  },
  {
   "cell_type": "code",
   "execution_count": null,
   "metadata": {},
   "outputs": [],
   "source": [
    "grid_gdf = pd.concat(grid_gdf_list)\n",
    "grid_gdf"
   ]
  },
  {
   "cell_type": "code",
   "execution_count": null,
   "metadata": {},
   "outputs": [],
   "source": [
    "grid_gdf = grid_gdf.sort_values(by=[\"grid_id\"])\n",
    "grid_gdf = grid_gdf.reset_index(drop=True)"
   ]
  },
  {
   "cell_type": "code",
   "execution_count": null,
   "metadata": {},
   "outputs": [],
   "source": [
    "grid_gdf"
   ]
  },
  {
   "cell_type": "markdown",
   "metadata": {},
   "source": [
    "### Save combined data"
   ]
  },
  {
   "cell_type": "code",
   "execution_count": null,
   "metadata": {},
   "outputs": [],
   "source": [
    "COMBINED_DIR = OUTPUT_DATA_DIR / \"test\""
   ]
  },
  {
   "cell_type": "code",
   "execution_count": null,
   "metadata": {},
   "outputs": [],
   "source": [
    "# save grid-level dataset\n",
    "save_shapefiles(grid_gdf, COMBINED_DIR, \"grids_w_clusters\", formats=[\"parquet\", \"csv\"])"
   ]
  },
  {
   "cell_type": "markdown",
   "metadata": {},
   "source": [
    "### Pivot to cluster-level and save"
   ]
  },
  {
   "cell_type": "code",
   "execution_count": null,
   "metadata": {},
   "outputs": [],
   "source": [
    "cluster_gdf = get_cluster_pivot_gdf(\n",
    "    gdf_w_clusters=grid_gdf,\n",
    "    cluster_id_col=\"unique_cluster_id\",\n",
    "    weight_col=\"population\",\n",
    "    cols_to_keep=[\n",
    "        \"PSGC\",\n",
    "        \"urban\",\n",
    "        \"dense_area_guess\",\n",
    "    ],\n",
    "    with_stats=True,\n",
    "    epsg=3121,\n",
    ")"
   ]
  },
  {
   "cell_type": "code",
   "execution_count": null,
   "metadata": {},
   "outputs": [],
   "source": [
    "# save cluster-level dataset\n",
    "save_shapefiles(cluster_gdf, COMBINED_DIR, \"clusters\", formats=[\"parquet\", \"csv\"])"
   ]
  },
  {
   "cell_type": "code",
   "execution_count": null,
   "metadata": {},
   "outputs": [],
   "source": [
    "jointplot = plot_weights_vs_radii(\n",
    "    cluster_df=cluster_gdf,\n",
    "    output_filepath=COMBINED_DIR / \"cluster_weights_vs_radii.png\",\n",
    ")"
   ]
  }
 ],
 "metadata": {
  "kernelspec": {
   "display_name": "gridsample",
   "language": "python",
   "name": "python3"
  },
  "language_info": {
   "codemirror_mode": {
    "name": "ipython",
    "version": 3
   },
   "file_extension": ".py",
   "mimetype": "text/x-python",
   "name": "python",
   "nbconvert_exporter": "python",
   "pygments_lexer": "ipython3",
   "version": "3.11.0"
  }
 },
 "nbformat": 4,
 "nbformat_minor": 2
}
