{
 "cells": [
  {
   "cell_type": "markdown",
   "metadata": {},
   "source": [
    "### Setup"
   ]
  },
  {
   "cell_type": "code",
   "execution_count": null,
   "metadata": {},
   "outputs": [],
   "source": [
    "# set libraries to refresh\n",
    "%load_ext autoreload\n",
    "%autoreload 2"
   ]
  },
  {
   "cell_type": "code",
   "execution_count": null,
   "metadata": {},
   "outputs": [],
   "source": [
    "from pathlib import Path\n",
    "import pandas as pd\n",
    "from tqdm.notebook import tqdm"
   ]
  },
  {
   "cell_type": "code",
   "execution_count": null,
   "metadata": {},
   "outputs": [],
   "source": [
    "from clustering.utils import df_w_latlons_to_gdf, create_ids"
   ]
  },
  {
   "cell_type": "markdown",
   "metadata": {},
   "source": [
    "### Load"
   ]
  },
  {
   "cell_type": "code",
   "execution_count": null,
   "metadata": {},
   "outputs": [],
   "source": [
    "ROOT_DIR = Path(\"..\")\n",
    "DATA_DIR = ROOT_DIR / \"data_hpls\"\n",
    "RAW_DATA_DIR = DATA_DIR / \"HPLS R3 Sampling\"\n",
    "INPUT_DATA_DIR = DATA_DIR / \"01_modelinputs\""
   ]
  },
  {
   "cell_type": "code",
   "execution_count": null,
   "metadata": {},
   "outputs": [],
   "source": [
    "all_grids_df = pd.read_parquet(RAW_DATA_DIR/\"worldpop_phils2020_unadj_w_barangay.parquet\")"
   ]
  },
  {
   "cell_type": "markdown",
   "metadata": {},
   "source": [
    "### Process"
   ]
  },
  {
   "cell_type": "code",
   "execution_count": null,
   "metadata": {},
   "outputs": [],
   "source": [
    "all_grids_gdf = df_w_latlons_to_gdf(all_grids_df, lat_name=\"Lat\", lon_name=\"Lon\")"
   ]
  },
  {
   "cell_type": "code",
   "execution_count": null,
   "metadata": {},
   "outputs": [],
   "source": [
    "all_grids_gdf.loc[:, \"grid_id\"] = create_ids(len(all_grids_gdf), \"GRID_\")"
   ]
  },
  {
   "cell_type": "markdown",
   "metadata": {},
   "source": [
    "### Save"
   ]
  },
  {
   "cell_type": "code",
   "execution_count": null,
   "metadata": {},
   "outputs": [],
   "source": [
    "# single barangay (for testing)\n",
    "sample_gdf = all_grids_gdf[all_grids_gdf[\"PSGC\"]==200902010]\n",
    "sample_gdf.to_parquet(\"../data/input/data.parquet\")"
   ]
  },
  {
   "cell_type": "code",
   "execution_count": null,
   "metadata": {},
   "outputs": [],
   "source": [
    "# all\n",
    "all_grids_gdf.to_parquet(INPUT_DATA_DIR/\"all_grids_gdf.parquet\")"
   ]
  },
  {
   "cell_type": "code",
   "execution_count": null,
   "metadata": {},
   "outputs": [],
   "source": [
    "# separate file for each barangay\n",
    "psgc_list = all_grids_gdf[\"PSGC\"].unique()\n",
    "for psgc in tqdm(psgc_list):\n",
    "    all_grids_gdf[all_grids_gdf[\"PSGC\"] == psgc].to_parquet(\n",
    "        INPUT_DATA_DIR / \"per_barangay\" / f\"{psgc}.parquet\"\n",
    "    )"
   ]
  }
 ],
 "metadata": {
  "kernelspec": {
   "display_name": "gridsample",
   "language": "python",
   "name": "python3"
  },
  "language_info": {
   "codemirror_mode": {
    "name": "ipython",
    "version": 3
   },
   "file_extension": ".py",
   "mimetype": "text/x-python",
   "name": "python",
   "nbconvert_exporter": "python",
   "pygments_lexer": "ipython3",
   "version": "3.11.0"
  }
 },
 "nbformat": 4,
 "nbformat_minor": 2
}
